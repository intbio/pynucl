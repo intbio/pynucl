{
 "cells": [
  {
   "cell_type": "code",
   "execution_count": 23,
   "metadata": {},
   "outputs": [
    {
     "name": "stdout",
     "output_type": "stream",
     "text": [
      "The autoreload extension is already loaded. To reload it, use:\n",
      "  %reload_ext autoreload\n"
     ]
    }
   ],
   "source": [
    "%load_ext autoreload\n",
    "%autoreload 2"
   ]
  },
  {
   "cell_type": "code",
   "execution_count": 16,
   "metadata": {},
   "outputs": [],
   "source": [
    "from pynucl import nucl_ref_frame_aln\n",
    "from pynucl import view_nucl"
   ]
  },
  {
   "cell_type": "markdown",
   "metadata": {},
   "source": [
    "## An example on how to put nucleosome sturcture in nucleosome reference frame"
   ]
  },
  {
   "cell_type": "code",
   "execution_count": 1,
   "metadata": {},
   "outputs": [
    {
     "name": "stdout",
     "output_type": "stream",
     "text": [
      "--2020-04-17 20:06:32--  https://files.rcsb.org/download/1KX5.pdb\n",
      "Resolving files.rcsb.org (files.rcsb.org)... 128.6.244.12\n",
      "Connecting to files.rcsb.org (files.rcsb.org)|128.6.244.12|:443... connected.\n",
      "HTTP request sent, awaiting response... 200 OK\n",
      "Length: unspecified [application/octet-stream]\n",
      "Saving to: ‘1KX5.pdb’\n",
      "\n",
      "1KX5.pdb                [    <=>             ]   1.40M  1.94MB/s    in 0.7s    \n",
      "\n",
      "2020-04-17 20:06:34 (1.94 MB/s) - ‘1KX5.pdb’ saved [1464723]\n",
      "\n"
     ]
    }
   ],
   "source": [
    "!wget https://files.rcsb.org/download/1KX5.pdb"
   ]
  },
  {
   "cell_type": "code",
   "execution_count": 21,
   "metadata": {},
   "outputs": [
    {
     "name": "stdout",
     "output_type": "stream",
     "text": [
      "DNA chains consist of  294 residues\n",
      "DNA consists of  147.0 basepairs\n",
      "Cetner bp index 73\n",
      "Calculating reference base pairing from original file\n",
      "created temporary directory /tmp/tmp36cii7og\n",
      "Writing coords to input.pdb\n",
      "OUT: \n",
      "ERR: \n",
      "handling file <input.pdb>\n",
      "\n",
      "Time used: 00:00:00:01\n",
      "\n",
      "\n",
      "===BP identification file is <_io.StringIO object at 0x7feeb2681828>\n",
      "\n",
      "identified bp = 147\n",
      "Running findpair on the original input\n",
      "created temporary directory /tmp/tmpko1foy1y\n",
      "Writing coords to input.pdb\n",
      "OUT: \n",
      "ERR: \n",
      "handling file <input.pdb>\n",
      "\n",
      "Time used: 00:00:00:00\n",
      "\n",
      "created temporary directory /tmp/tmpfiz53lw9\n",
      "Writing coords to input.pdb\n",
      "Writing provided find pair file\n",
      "Writing new find pair file\n",
      "OUT:  \n",
      "......Processing structure #1: <output>......\n",
      "[i] missing ' P  ' atom : residue name ' DA', chain I, number [ -73 ]\n",
      "[i] missing ' OP1' atom : residue name ' DA', chain I, number [ -73 ]\n",
      "[i] missing ' OP2' atom : residue name ' DA', chain I, number [ -73 ]\n",
      "[i] missing ' P  ' atom : residue name ' DA', chain J, number [ -73 ]\n",
      "[i] missing ' OP1' atom : residue name ' DA', chain J, number [ -73 ]\n",
      "[i] missing ' OP2' atom : residue name ' DA', chain J, number [ -73 ]\n",
      "[i] missing ' P  ' atom : residue name ' DA', chain I, number [ -73 ]\n",
      "[i] missing ' P  ' atom : residue name ' DA', chain J, number [ -73 ]\n",
      "\n",
      "Time used: 00:00:00:00\n",
      "\n",
      "Processing  /tmp/tmpfiz53lw9/ref_frames.dat\n",
      "Processing  /tmp/tmpfiz53lw9/bp_step.par\n",
      "Reference BP list\n",
      "[]\n",
      "Current BP list\n",
      "[]\n",
      "OUT: b'' b'\\nTime used: 00:00:00:00\\n'\n",
      "Intial distance var:  121628.30245740747\n",
      "Distance var after minim: 16569.083886383563\n",
      "-19.39272735569454\n",
      "-2.1867988709500885\n",
      "[[ 24.12599945  23.02099991  21.6989994  ...  71.87400055  73.1309967\n",
      "   75.01200104]\n",
      " [139.74699402 138.93899536 139.50300598 ...  80.98300171  70.23899841\n",
      "   61.38499832]\n",
      " [ 27.19799995  27.63100052  27.16399956 ... -19.56699944 -14.67000008\n",
      "    8.12199974]\n",
      " [  1.           1.           1.         ...   1.           1.\n",
      "    1.        ]]\n",
      "[[-30.40209533 -31.45865474 -32.71855484 ...  33.08013725  34.68352345\n",
      "   32.98581312]\n",
      " [  1.6707468    1.2411251    2.04949483 ...  23.53809772  15.96859778\n",
      "   -8.29558996]\n",
      " [ 49.22578114  48.35372455  48.56126575 ...  -9.18542223 -18.19242352\n",
      "  -21.31871903]\n",
      " [  1.           1.           1.         ...   1.           1.\n",
      "    1.        ]]\n",
      "\n",
      "==Did not converge, trying to reinitialize with random numbers==\n",
      "\n",
      "[2.76997756 4.83134001 4.63448184 4.59069303 1.17692002]\n",
      "Retrying...\n",
      "DNA chains consist of  294 residues\n",
      "DNA consists of  147.0 basepairs\n",
      "Cetner bp index 73\n",
      "Calculating reference base pairing from original file\n",
      "created temporary directory /tmp/tmpi2oczn0o\n",
      "Writing coords to input.pdb\n",
      "OUT: \n",
      "ERR: \n",
      "handling file <input.pdb>\n",
      "\n",
      "Time used: 00:00:00:00\n",
      "\n",
      "\n",
      "===BP identification file is <_io.StringIO object at 0x7feeb051b558>\n",
      "\n",
      "identified bp = 147\n",
      "Running findpair on the original input\n",
      "created temporary directory /tmp/tmpz8s_jewv\n",
      "Writing coords to input.pdb\n",
      "OUT: \n",
      "ERR: \n",
      "handling file <input.pdb>\n",
      "\n",
      "Time used: 00:00:00:00\n",
      "\n",
      "created temporary directory /tmp/tmpz9nygi9k\n",
      "Writing coords to input.pdb\n",
      "Writing provided find pair file\n",
      "Writing new find pair file\n",
      "OUT:  \n",
      "......Processing structure #1: <output>......\n",
      "[i] missing ' P  ' atom : residue name ' DA', chain I, number [ -73 ]\n",
      "[i] missing ' OP1' atom : residue name ' DA', chain I, number [ -73 ]\n",
      "[i] missing ' OP2' atom : residue name ' DA', chain I, number [ -73 ]\n",
      "[i] missing ' P  ' atom : residue name ' DA', chain J, number [ -73 ]\n",
      "[i] missing ' OP1' atom : residue name ' DA', chain J, number [ -73 ]\n",
      "[i] missing ' OP2' atom : residue name ' DA', chain J, number [ -73 ]\n",
      "[i] missing ' P  ' atom : residue name ' DA', chain I, number [ -73 ]\n",
      "[i] missing ' P  ' atom : residue name ' DA', chain J, number [ -73 ]\n",
      "\n",
      "Time used: 00:00:00:01\n",
      "\n",
      "Processing  /tmp/tmpz9nygi9k/ref_frames.dat\n",
      "Processing  /tmp/tmpz9nygi9k/bp_step.par\n",
      "Reference BP list\n",
      "[]\n",
      "Current BP list\n",
      "[]\n",
      "OUT: b'' b'\\nTime used: 00:00:00:00\\n'\n",
      "Intial distance var:  121628.30245740747\n",
      "Distance var after minim: 527.0132736919153\n",
      "-34.158240227979434\n",
      "-20.592436940822818\n",
      "[[ 24.12599945  23.02099991  21.6989994  ...  71.87400055  73.1309967\n",
      "   75.01200104]\n",
      " [139.74699402 138.93899536 139.50300598 ...  80.98300171  70.23899841\n",
      "   61.38499832]\n",
      " [ 27.19799995  27.63100052  27.16399956 ... -19.56699944 -14.67000008\n",
      "    8.12199974]\n",
      " [  1.           1.           1.         ...   1.           1.\n",
      "    1.        ]]\n",
      "[[-21.5046934  -22.48793292 -23.89332397 ...  22.18057641  24.73733935\n",
      "   30.4011567 ]\n",
      " [ 42.80707198  41.8779811   42.39256436 ...  -6.79911636 -17.89868344\n",
      "  -29.05793537]\n",
      " [ 29.37117288  29.85221912  29.64254498 ... -30.21797755 -26.86285865\n",
      "   -5.77259976]\n",
      " [  1.           1.           1.         ...   1.           1.\n",
      "    1.        ]]\n"
     ]
    }
   ],
   "source": [
    "nucl_ref_frame_aln.nucl_align('1KX5.pdb','1KX5_aligned.pdb',attempts=50)\n"
   ]
  },
  {
   "cell_type": "code",
   "execution_count": 22,
   "metadata": {},
   "outputs": [
    {
     "ename": "NameError",
     "evalue": "name 'view_nucl' is not defined",
     "output_type": "error",
     "traceback": [
      "\u001b[0;31m---------------------------------------------------------------------------\u001b[0m",
      "\u001b[0;31mNameError\u001b[0m                                 Traceback (most recent call last)",
      "\u001b[0;32m<ipython-input-22-162c46c0b83f>\u001b[0m in \u001b[0;36m<module>\u001b[0;34m\u001b[0m\n\u001b[0;32m----> 1\u001b[0;31m \u001b[0mview_nucl\u001b[0m\u001b[0;34m.\u001b[0m\u001b[0mview_nucl\u001b[0m\u001b[0;34m(\u001b[0m\u001b[0;34m'1KX5_aligned.pdb'\u001b[0m\u001b[0;34m)\u001b[0m\u001b[0;34m\u001b[0m\u001b[0;34m\u001b[0m\u001b[0m\n\u001b[0m",
      "\u001b[0;31mNameError\u001b[0m: name 'view_nucl' is not defined"
     ]
    }
   ],
   "source": [
    "view_nucl.view_nucl('1KX5_aligned.pdb')"
   ]
  },
  {
   "cell_type": "code",
   "execution_count": null,
   "metadata": {},
   "outputs": [],
   "source": []
  }
 ],
 "metadata": {
  "kernelspec": {
   "display_name": "Python [conda env:moldyn]",
   "language": "python",
   "name": "conda-env-moldyn-py"
  },
  "language_info": {
   "codemirror_mode": {
    "name": "ipython",
    "version": 3
   },
   "file_extension": ".py",
   "mimetype": "text/x-python",
   "name": "python",
   "nbconvert_exporter": "python",
   "pygments_lexer": "ipython3",
   "version": "3.7.3"
  }
 },
 "nbformat": 4,
 "nbformat_minor": 2
}
