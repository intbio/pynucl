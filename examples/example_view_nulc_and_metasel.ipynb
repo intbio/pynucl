{
 "cells": [
  {
   "cell_type": "code",
   "execution_count": 1,
   "metadata": {},
   "outputs": [
    {
     "name": "stderr",
     "output_type": "stream",
     "text": [
      "/opt/miniconda3/envs/moldyn/lib/python3.7/site-packages/Bio/Align/substitution_matrices/__init__.py:21: BiopythonExperimentalWarning: Bio.Align.substitution_matrices is an experimental module which may still undergo significant changes. In particular, the location of this module may change, and the Array class defined in this module may be moved to other existing or new modules in Biopython.\n",
      "  BiopythonExperimentalWarning)\n"
     ]
    },
    {
     "data": {
      "application/vnd.jupyter.widget-view+json": {
       "model_id": "a832ac14435040029e549a8367f11aec",
       "version_major": 2,
       "version_minor": 0
      },
      "text/plain": [
       "_ColormakerRegistry()"
      ]
     },
     "metadata": {},
     "output_type": "display_data"
    }
   ],
   "source": [
    "import pynucl\n",
    "from pynucl.view_nucl import view_nucl\n",
    "import sys\n",
    "sys.path.insert(0,'/home/_shared/_projects/nucl_gmx')\n",
    "from nucl_sys import systems as sys"
   ]
  },
  {
   "cell_type": "code",
   "execution_count": 2,
   "metadata": {},
   "outputs": [],
   "source": [
    "import io, requests\n",
    "h=io.StringIO(requests.get('https://files.rcsb.org/download/%s.pdb'%('1KX5')).content.decode(\"utf-8\") )"
   ]
  },
  {
   "cell_type": "code",
   "execution_count": 3,
   "metadata": {},
   "outputs": [
    {
     "name": "stderr",
     "output_type": "stream",
     "text": [
      "/opt/miniconda3/envs/moldyn/lib/python3.7/site-packages/MDAnalysis/topology/guessers.py:80: UserWarning: Failed to guess the mass for the following atom types: MN\n",
      "  warnings.warn(\"Failed to guess the mass for the following atom types: {}\".format(atom_type))\n"
     ]
    },
    {
     "name": "stdout",
     "output_type": "stream",
     "text": [
      "1 frames loaded for None\n"
     ]
    },
    {
     "name": "stderr",
     "output_type": "stream",
     "text": [
      "/opt/miniconda3/envs/moldyn/lib/python3.7/site-packages/MDAnalysis/coordinates/base.py:837: UserWarning: Reader has no dt information, set to 1.0 ps\n",
      "  warnings.warn(\"Reader has no dt information, set to 1.0 ps\")\n",
      "/opt/miniconda3/envs/moldyn/lib/python3.7/site-packages/MDAnalysis/analysis/base.py:116: DeprecationWarning: Setting the following kwargs should be done in the run() method: start, step\n",
      "  DeprecationWarning)\n"
     ]
    }
   ],
   "source": [
    "p=pynucl.nuclstr(h,format='PDB',auto_detect_entities=True)"
   ]
  },
  {
   "cell_type": "code",
   "execution_count": 4,
   "metadata": {},
   "outputs": [
    {
     "data": {
      "application/vnd.jupyter.widget-view+json": {
       "model_id": "db135593012b41d2909b278bdbfd9293",
       "version_major": 2,
       "version_minor": 0
      },
      "text/plain": [
       "NGLWidget()"
      ]
     },
     "metadata": {},
     "output_type": "display_data"
    }
   ],
   "source": [
    "view=p.view()\n",
    "#view.add_legend_line('SNF-2','silver')\n",
    "view"
   ]
  },
  {
   "cell_type": "code",
   "execution_count": 17,
   "metadata": {},
   "outputs": [],
   "source": [
    "view.clear()\n",
    "view.add_mda_representaton('cartoon',f'(segid I and resnum {\" \".join([str(i) for i in range(-72,0)])}) or (segid J and resnum 0:72)',\n",
    "                           color='blue')\n",
    "view.add_mda_representaton('cartoon',f'(segid J and resnum {\" \".join([str(i) for i in range(-72,0)])}) or (segid I and resnum 0:72)',\n",
    "                           color='orange')"
   ]
  },
  {
   "cell_type": "code",
   "execution_count": 18,
   "metadata": {},
   "outputs": [],
   "source": [
    "view.download_image(transparent=True,factor=10)"
   ]
  },
  {
   "cell_type": "code",
   "execution_count": 8,
   "metadata": {},
   "outputs": [
    {
     "data": {
      "application/vnd.jupyter.widget-view+json": {
       "model_id": "b4d70157532e4eb181d671c03194dee5",
       "version_major": 2,
       "version_minor": 0
      },
      "text/plain": [
       "NGLWidget()"
      ]
     },
     "metadata": {},
     "output_type": "display_data"
    }
   ],
   "source": [
    "view=p.view(color='dull',onlyNcp=True)\n",
    "\n",
    "#view.add_mda_representaton('cartoon','segid O',color='#FF00FF',name='SNF 2')\n",
    "#view.add_mda_representaton('surface',p.nucl_sel_expand('core'),color='lime',name='core',opacity=0.2)\n",
    "view.add_mda_representaton('spacefill','resname LYS',color='blue',name='Lys')\n",
    "view.set_size(800,600)\n",
    "view"
   ]
  },
  {
   "cell_type": "code",
   "execution_count": 9,
   "metadata": {},
   "outputs": [],
   "source": [
    "view.download_image(factor=6,trim=True,    transparent=True)"
   ]
  },
  {
   "cell_type": "code",
   "execution_count": 8,
   "metadata": {},
   "outputs": [],
   "source": [
    "universe=p.u"
   ]
  },
  {
   "cell_type": "code",
   "execution_count": 9,
   "metadata": {},
   "outputs": [
    {
     "data": {
      "text/plain": [
       "<AtomGroup with 1580 atoms>"
      ]
     },
     "execution_count": 9,
     "metadata": {},
     "output_type": "execute_result"
    }
   ],
   "source": [
    "universe.select_atoms(p.nucl_sel_expand('H3'))"
   ]
  },
  {
   "cell_type": "code",
   "execution_count": 11,
   "metadata": {},
   "outputs": [
    {
     "data": {
      "text/plain": [
       "<AtomGroup with 194 atoms>"
      ]
     },
     "execution_count": 11,
     "metadata": {},
     "output_type": "execute_result"
    }
   ],
   "source": [
    "universe.select_atoms(p.nucl_sel_expand('H4 and alpha1'))"
   ]
  },
  {
   "cell_type": "code",
   "execution_count": 31,
   "metadata": {},
   "outputs": [
    {
     "name": "stderr",
     "output_type": "stream",
     "text": [
      "/opt/miniconda3/envs/moldyn/lib/python3.7/site-packages/MDAnalysis/coordinates/base.py:837: UserWarning: Reader has no dt information, set to 1.0 ps\n",
      "  warnings.warn(\"Reader has no dt information, set to 1.0 ps\")\n"
     ]
    },
    {
     "name": "stdout",
     "output_type": "stream",
     "text": [
      "14630 frames loaded for 3lz0_ntm\n"
     ]
    },
    {
     "name": "stderr",
     "output_type": "stream",
     "text": [
      "/opt/miniconda3/envs/moldyn/lib/python3.7/site-packages/MDAnalysis/analysis/base.py:116: DeprecationWarning: Setting the following kwargs should be done in the run() method: start, step\n",
      "  DeprecationWarning)\n"
     ]
    }
   ],
   "source": [
    "p=pynucl.nucltrj(**sys['3lz0_ntm'],time=(0,None,1),auto_detect_entities=True)"
   ]
  },
  {
   "cell_type": "code",
   "execution_count": 32,
   "metadata": {},
   "outputs": [
    {
     "data": {
      "application/vnd.jupyter.widget-view+json": {
       "model_id": "7ef9d48a425e432398713f9d3d8d7a3d",
       "version_major": 2,
       "version_minor": 0
      },
      "text/plain": [
       "NGLWidget(max_frame=14629)"
      ]
     },
     "metadata": {},
     "output_type": "display_data"
    }
   ],
   "source": [
    "view=p.view()\n",
    "view"
   ]
  },
  {
   "cell_type": "code",
   "execution_count": 33,
   "metadata": {},
   "outputs": [
    {
     "data": {
      "text/plain": [
       "<nglview.component.ComponentViewer at 0x7f255b586f28>"
      ]
     },
     "execution_count": 33,
     "metadata": {},
     "output_type": "execute_result"
    }
   ],
   "source": [
    "import nglview as nv\n",
    "view.add_component(nv.MDAnalysisTrajectory(p.u))"
   ]
  },
  {
   "cell_type": "code",
   "execution_count": 36,
   "metadata": {},
   "outputs": [],
   "source": [
    "view.frame=5000"
   ]
  },
  {
   "cell_type": "code",
   "execution_count": 34,
   "metadata": {},
   "outputs": [],
   "source": [
    "view[0].clear()\n",
    "view.add_mda_representaton('cartoon',f'(segid I and resnum {\" \".join([str(i) for i in range(-72,0)])}) or (segid J and resnum 0:72)',\n",
    "                           color='blue')\n",
    "view.add_mda_representaton('cartoon',f'(segid J and resnum {\" \".join([str(i) for i in range(-72,0)])}) or (segid I and resnum 0:72)',\n",
    "                           color='orange')\n",
    "view[1].clear()\n",
    "view[1].add_cartoon('nucleic')"
   ]
  },
  {
   "cell_type": "code",
   "execution_count": 4,
   "metadata": {},
   "outputs": [
    {
     "name": "stdout",
     "output_type": "stream",
     "text": [
      "1 frames loaded for None\n"
     ]
    },
    {
     "name": "stderr",
     "output_type": "stream",
     "text": [
      "/opt/miniconda3/envs/moldyn/lib/python3.7/site-packages/MDAnalysis/coordinates/base.py:837: UserWarning: Reader has no dt information, set to 1.0 ps\n",
      "  warnings.warn(\"Reader has no dt information, set to 1.0 ps\")\n",
      "/opt/miniconda3/envs/moldyn/lib/python3.7/site-packages/MDAnalysis/analysis/base.py:116: DeprecationWarning: Setting the following kwargs should be done in the run() method: start, step\n",
      "  DeprecationWarning)\n"
     ]
    }
   ],
   "source": [
    "import io, requests\n",
    "h=io.StringIO(requests.get('https://files.rcsb.org/download/%s.pdb'%('6J99')).content.decode(\"utf-8\") )\n",
    "p=pynucl.nuclstr(h,format='PDB',auto_detect_entities=True)"
   ]
  },
  {
   "cell_type": "code",
   "execution_count": 30,
   "metadata": {},
   "outputs": [
    {
     "data": {
      "application/vnd.jupyter.widget-view+json": {
       "model_id": "0f10c62d4f3d428ea0268d6635637812",
       "version_major": 2,
       "version_minor": 0
      },
      "text/plain": [
       "NGLWidget()"
      ]
     },
     "metadata": {},
     "output_type": "display_data"
    }
   ],
   "source": [
    "import io, requests\n",
    "h=io.StringIO(requests.get('https://files.rcsb.org/download/%s.pdb'%('6J99')).content.decode(\"utf-8\") )\n",
    "p=pynucl.nuclstr(h,format='PDB',auto_detect_entities=True)\n",
    "\n",
    "view=p.view(onlyNcp=True)\n",
    "view.add_mda_representaton('licorice','segid K L',color='grey',radius=0.5)\n",
    "view.add_mda_representaton('licorice','segid K L and resid 137',color='pink',radius=0.6)\n",
    "\n",
    "label_pos=p.u.select_atoms('segid K L and resid 137 and name CA').positions[0].tolist()\n",
    "# pos, color [r,g,b], size, text\n",
    "view.shape.add_label(label_pos,[0.2,1,0.2],5,'ARG 137')\n",
    "\n",
    "view.add_mda_representaton('licorice','segid A and resid 77 137',color='pink',radius=0.6)\n",
    "view"
   ]
  },
  {
   "cell_type": "code",
   "execution_count": 31,
   "metadata": {},
   "outputs": [],
   "source": [
    "view.download_image(transparent=True, factor=6)"
   ]
  }
 ],
 "metadata": {
  "kernelspec": {
   "display_name": "Python [conda env:moldyn]",
   "language": "python",
   "name": "conda-env-moldyn-py"
  },
  "language_info": {
   "codemirror_mode": {
    "name": "ipython",
    "version": 3
   },
   "file_extension": ".py",
   "mimetype": "text/x-python",
   "name": "python",
   "nbconvert_exporter": "python",
   "pygments_lexer": "ipython3",
   "version": "3.7.3"
  }
 },
 "nbformat": 4,
 "nbformat_minor": 4
}
